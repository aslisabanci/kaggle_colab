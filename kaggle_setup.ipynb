{
  "nbformat": 4,
  "nbformat_minor": 0,
  "metadata": {
    "colab": {
      "name": "kaggle setup.ipynb",
      "version": "0.3.2",
      "provenance": []
    },
    "kernelspec": {
      "name": "python3",
      "display_name": "Python 3"
    }
  },
  "cells": [
    {
      "metadata": {
        "id": "kqWHsZCTHarj",
        "colab_type": "code",
        "colab": {
          "base_uri": "https://localhost:8080/",
          "height": 356
        },
        "outputId": "4c795045-0112-4a4f-d3a3-92ae3252e254"
      },
      "cell_type": "code",
      "source": [
        "!pip install kaggle\n"
      ],
      "execution_count": 1,
      "outputs": [
        {
          "output_type": "stream",
          "text": [
            "Collecting kaggle\n",
            "  Downloading https://files.pythonhosted.org/packages/ac/6a/b03eb0855f313cc37c0df6bdac61e8248fda209153bee386f715e926a491/kaggle-1.3.11.1.tar.gz\n",
            "Requirement already satisfied: urllib3<1.23.0,>=1.15 in /usr/local/lib/python3.6/dist-packages (from kaggle) (1.22)\n",
            "Requirement already satisfied: six>=1.10 in /usr/local/lib/python3.6/dist-packages (from kaggle) (1.11.0)\n",
            "Requirement already satisfied: certifi in /usr/local/lib/python3.6/dist-packages (from kaggle) (2018.4.16)\n",
            "Requirement already satisfied: python-dateutil in /usr/local/lib/python3.6/dist-packages (from kaggle) (2.5.3)\n",
            "Requirement already satisfied: requests in /usr/local/lib/python3.6/dist-packages (from kaggle) (2.18.4)\n",
            "Collecting tqdm (from kaggle)\n",
            "\u001b[?25l  Downloading https://files.pythonhosted.org/packages/93/24/6ab1df969db228aed36a648a8959d1027099ce45fad67532b9673d533318/tqdm-4.23.4-py2.py3-none-any.whl (42kB)\n",
            "\u001b[K    100% |████████████████████████████████| 51kB 8.6MB/s \n",
            "\u001b[?25hRequirement already satisfied: idna<2.7,>=2.5 in /usr/local/lib/python3.6/dist-packages (from requests->kaggle) (2.6)\n",
            "Requirement already satisfied: chardet<3.1.0,>=3.0.2 in /usr/local/lib/python3.6/dist-packages (from requests->kaggle) (3.0.4)\n",
            "Building wheels for collected packages: kaggle\n",
            "  Running setup.py bdist_wheel for kaggle ... \u001b[?25l-\b \bdone\n",
            "\u001b[?25h  Stored in directory: /content/.cache/pip/wheels/f1/34/79/fe71f4c2bf112baedf4e5c62e07cdecc018e793c735873afe6\n",
            "Successfully built kaggle\n",
            "Installing collected packages: tqdm, kaggle\n",
            "Successfully installed kaggle-1.3.11.1 tqdm-4.23.4\n"
          ],
          "name": "stdout"
        }
      ]
    },
    {
      "metadata": {
        "id": "YBJed8s7IKWE",
        "colab_type": "code",
        "colab": {}
      },
      "cell_type": "code",
      "source": [
        "from google.colab import files #upload your kaggle.json file containing your kaggle API key\n",
        "files.upload() #click on Choose Files and then upload kaggle.json file from your computer"
      ],
      "execution_count": 0,
      "outputs": []
    },
    {
      "metadata": {
        "id": "hLTudQOLLVSa",
        "colab_type": "code",
        "colab": {}
      },
      "cell_type": "code",
      "source": [
        "!mkdir -p ~/.kaggle #create the .kaggle directory and put your credentials json file into it\n",
        "!cp kaggle.json ~/.kaggle/"
      ],
      "execution_count": 0,
      "outputs": []
    },
    {
      "metadata": {
        "id": "scx_Vq41IT7R",
        "colab_type": "code",
        "colab": {}
      },
      "cell_type": "code",
      "source": [
        "!chmod 600 /content/.kaggle/kaggle.json # so that your kaggle.json file cannot be read by others\n",
        "\n"
      ],
      "execution_count": 0,
      "outputs": []
    },
    {
      "metadata": {
        "id": "ER-VMQ5vPceD",
        "colab_type": "code",
        "colab": {
          "base_uri": "https://localhost:8080/",
          "height": 407
        },
        "outputId": "1b1b9dfa-a291-463f-ea9a-d98cf6452127"
      },
      "cell_type": "code",
      "source": [
        "!kaggle datasets list -s dog"
      ],
      "execution_count": 5,
      "outputs": [
        {
          "output_type": "stream",
          "text": [
            "ref                                                  title                                           size  lastUpdated          downloadCount  \r\n",
            "---------------------------------------------------  ---------------------------------------------  -----  -------------------  -------------  \r\n",
            "jessicali9530/stl10                                  STL-10 Image Recognition Dataset                 2GB  2018-06-11 03:02:24              7  \r\n",
            "aaronschlegel/seattle-pet-licenses                   Seattle Pet Licenses                           924KB  2018-05-15 01:26:45           1008  \r\n",
            "puppygogo/sa-dog-ownership-sample                    SA & Victorian pet ownership data                3MB  2017-11-24 05:02:35            197  \r\n",
            "vincela9/charlottesville-on-twitter                  #Charlottesville on Twitter                     85MB  2017-08-21 22:36:17            370  \r\n",
            "gaborvecsei/flats-to-rent-at-budapest                Flats for Rent at Budapest                     823MB  2018-05-06 19:01:56             44  \r\n",
            "jbuchner/spokenverbs                                 Spoken Verbs                                   349MB  2017-12-21 18:27:03             85  \r\n",
            "mmoreaux/audio-cats-and-dogs                         Audio Cats and Dogs                             49MB  2017-10-05 09:40:26            777  \r\n",
            "rtatman/5day-data-challenge-signup-survey-responses  5-Day Data Challenge Sign-Up Survey Responses   63KB  2017-12-13 00:09:15            198  \r\n",
            "jessevent/all-kaggle-datasets                        Complete Kaggle Datasets Collection            389KB  2018-01-16 12:32:58            173  \r\n",
            "new-york-city/nyc-dog-names                          NYC Dog Names                                   55KB  2017-08-31 16:04:44            313  \r\n",
            "selfishgene/youtube-faces-with-facial-keypoints      YouTube Faces With Facial Keypoints             10GB  2017-11-14 05:46:08           1455  \r\n",
            "rtatman/animal-bites                                 Animal Bites                                    98KB  2017-09-15 17:21:38            920  \r\n",
            "colinmorris/favicons                                 Favicons                                       772MB  2017-11-15 03:35:22            527  \r\n",
            "kmader/dogs-of-zurich                                Dogs of Zurich                                 254KB  2017-03-08 15:07:26            376  \r\n",
            "miroslavsabo/young-people-survey                     Young People Survey                             73KB  2016-12-06 03:10:30          19432  \r\n",
            "mchirico/cheltenham-s-facebook-group                 Cheltenham's Facebook Groups                    65MB  2018-04-02 18:55:36            934  \r\n",
            "iditarod/iditarod-race                               2017 Iditarod Trail Sled Dog Race               22KB  2017-03-22 15:04:59             98  \r\n",
            "dansbecker/dogs-gone-sideways                        Dogs Gone Sideways                              11MB  2018-01-10 18:03:02            160  \r\n",
            "dansbecker/hot-dog-not-hot-dog                       Hot Dog - Not Hot Dog                           45MB  2018-01-04 00:07:02            348  \r\n",
            "tongpython/cat-and-dog                               Cat and Dog                                    217MB  2018-04-26 10:56:50             67  \r\n"
          ],
          "name": "stdout"
        }
      ]
    },
    {
      "metadata": {
        "id": "gbqSijOyNa3t",
        "colab_type": "code",
        "colab": {
          "base_uri": "https://localhost:8080/",
          "height": 407
        },
        "outputId": "8461541e-b22b-47ef-a1bc-f9d7f2a8a2aa"
      },
      "cell_type": "code",
      "source": [
        "!kaggle competitions list"
      ],
      "execution_count": 11,
      "outputs": [
        {
          "output_type": "stream",
          "text": [
            "ref                                             deadline             category            reward  teamCount  userHasEntered  \r\n",
            "----------------------------------------------  -------------------  ---------------  ---------  ---------  --------------  \r\n",
            "house-prices-advanced-regression-techniques     2030-01-01 00:00:00  Getting Started  Knowledge       5149           False  \r\n",
            "digit-recognizer                                2030-01-01 00:00:00  Getting Started  Knowledge       2685           False  \r\n",
            "titanic                                         2030-01-01 00:00:00  Getting Started  Knowledge      11506            True  \r\n",
            "imagenet-object-detection-challenge             2029-12-31 07:00:00  Research         Knowledge          0           False  \r\n",
            "imagenet-object-detection-from-video-challenge  2029-12-31 07:00:00  Research         Knowledge          0           False  \r\n",
            "imagenet-object-localization-challenge          2029-12-31 07:00:00  Research         Knowledge         16           False  \r\n",
            "competitive-data-science-predict-future-sales   2019-01-01 23:59:00  Playground           Kudos        752           False  \r\n",
            "home-credit-default-risk                        2018-08-29 23:59:00  Featured           $70,000       2584           False  \r\n",
            "trackml-particle-identification                 2018-08-13 23:59:00  Featured           $25,000        419           False  \r\n",
            "youtube8m-2018                                  2018-08-06 23:59:00  Featured           $25,000        239           False  \r\n",
            "freesound-audio-tagging                         2018-07-31 23:59:00  Research         Knowledge        316           False  \r\n",
            "whale-categorization-playground                 2018-07-09 23:59:00  Playground           Kudos        411           False  \r\n",
            "avito-demand-prediction                         2018-06-27 23:59:00  Featured           $25,000       1774            True  \r\n",
            "cvpr-2018-autonomous-driving                    2018-06-11 23:59:00  Research            $2,500        145           False  \r\n",
            "inaturalist-2018                                2018-06-04 23:59:00  Research             Kudos         59           False  \r\n",
            "imaterialist-challenge-fashion-2018             2018-05-30 23:59:00  Research            $2,500        212           False  \r\n",
            "imaterialist-challenge-furniture-2018           2018-05-30 23:59:00  Research            $2,500        436           False  \r\n",
            "landmark-retrieval-challenge                    2018-05-29 23:59:00  Research            $2,500        218           False  \r\n",
            "landmark-recognition-challenge                  2018-05-29 23:59:00  Research            $2,500        483           False  \r\n",
            "talkingdata-adtracking-fraud-detection          2018-05-07 23:59:00  Featured           $25,000       3967           False  \r\n"
          ],
          "name": "stdout"
        }
      ]
    },
    {
      "metadata": {
        "id": "NhFusTfxOixY",
        "colab_type": "code",
        "colab": {
          "base_uri": "https://localhost:8080/",
          "height": 107
        },
        "outputId": "dd4da0bf-ddcb-4795-ede9-859b1ee91131"
      },
      "cell_type": "code",
      "source": [
        "!kaggle competitions download -c avito-demand-prediction"
      ],
      "execution_count": 0,
      "outputs": [
        {
          "output_type": "stream",
          "text": [
            "sample_submission.csv: Skipping, found more recently modified local copy (use --force to force download)\n",
            "test_jpg.zip: Skipping, found more recently modified local copy (use --force to force download)\n",
            "Downloading train_jpg.zip to /content/.kaggle/competitions/avito-demand-prediction\n",
            "  4%|█▌                                    | 2.00G/49.4G [00:36<54:25, 15.6MB/s]"
          ],
          "name": "stdout"
        },
        {
          "output_type": "stream",
          "text": [
            "  6%|██▎                                   | 3.08G/49.4G [01:23<36:53, 22.5MB/s]"
          ],
          "name": "stdout"
        }
      ]
    }
  ]
}